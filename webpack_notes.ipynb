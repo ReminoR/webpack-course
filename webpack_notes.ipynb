{
 "cells": [
  {
   "cell_type": "markdown",
   "metadata": {},
   "source": [
    "# Webpack"
   ]
  },
  {
   "cell_type": "markdown",
   "metadata": {},
   "source": [
    "Создается заготовка проекта (c8d21fb)"
   ]
  },
  {
   "cell_type": "markdown",
   "metadata": {},
   "source": [
    "### Использование webpack\n",
    "Создаем папку src и переносим туда все исходники нашего проекта"
   ]
  },
  {
   "cell_type": "code",
   "execution_count": 5,
   "metadata": {},
   "outputs": [],
   "source": [
    "##инициализируем проект.\n",
    "npm init"
   ]
  },
  {
   "cell_type": "markdown",
   "metadata": {},
   "source": [
    "Заполняем все необходимые поля и получаем файл package.json"
   ]
  },
  {
   "cell_type": "markdown",
   "metadata": {},
   "source": [
    "Устанавливаем webpack. <br>\n",
    "Флаг -D - говорит о том, что данное приложение устанавливается только для процесса разработки, а не для самого веб-приложения. Попадает в файл package.json в    \n",
    "\"devDependencies\": {\n",
    "    \"webpack\": \"^4.42.0\",\n",
    "    \"webpack-cli\": \"^3.3.11\"\n",
    "  }\n",
    "<br>  \n",
    "webpack-cli - для управления через webpack консоль"
   ]
  },
  {
   "cell_type": "code",
   "execution_count": 8,
   "metadata": {
    "scrolled": false
   },
   "outputs": [
    {
     "name": "stdout",
     "output_type": "stream",
     "text": [
      "sva@1.0.0 /home/victor/Development/webpack_test\n",
      "├─┬ webpack@4.42.0 \n",
      "│ ├─┬ @webassemblyjs/ast@1.8.5 \n",
      "│ │ ├── @webassemblyjs/helper-wasm-bytecode@1.8.5 \n",
      "│ │ └─┬ @webassemblyjs/wast-parser@1.8.5 \n",
      "│ │   ├── @webassemblyjs/floating-point-hex-parser@1.8.5 \n",
      "│ │   ├── @webassemblyjs/helper-code-frame@1.8.5 \n",
      "│ │   ├── @webassemblyjs/helper-fsm@1.8.5 \n",
      "│ │   └── @xtuc/long@4.2.2 \n",
      "│ ├─┬ @webassemblyjs/helper-module-context@1.8.5 \n",
      "│ │ └── mamacro@0.0.3 \n",
      "│ ├─┬ @webassemblyjs/wasm-edit@1.8.5 \n",
      "│ │ ├── @webassemblyjs/helper-buffer@1.8.5 \n",
      "│ │ ├── @webassemblyjs/helper-wasm-section@1.8.5 \n",
      "│ │ ├── @webassemblyjs/wasm-gen@1.8.5 \n",
      "│ │ ├── @webassemblyjs/wasm-opt@1.8.5 \n",
      "│ │ └── @webassemblyjs/wast-printer@1.8.5 \n",
      "│ ├─┬ @webassemblyjs/wasm-parser@1.8.5 \n",
      "│ │ ├── @webassemblyjs/helper-api-error@1.8.5 \n",
      "│ │ ├─┬ @webassemblyjs/ieee754@1.8.5 \n",
      "│ │ │ └── @xtuc/ieee754@1.2.0 \n",
      "│ │ ├── @webassemblyjs/leb128@1.8.5 \n",
      "│ │ └── @webassemblyjs/utf8@1.8.5 \n",
      "│ ├── acorn@6.4.0 \n",
      "│ ├─┬ ajv@6.12.0 \n",
      "│ │ ├── fast-deep-equal@3.1.1 \n",
      "│ │ ├── fast-json-stable-stringify@2.1.0 \n",
      "│ │ ├── json-schema-traverse@0.4.1 \n",
      "│ │ └─┬ uri-js@4.2.2 \n",
      "│ │   └── punycode@2.1.1 \n",
      "│ ├── ajv-keywords@3.4.1 \n",
      "│ ├─┬ chrome-trace-event@1.0.2 \n",
      "│ │ └── tslib@1.11.1 \n",
      "│ ├─┬ enhanced-resolve@4.1.1 \n",
      "│ │ ├── graceful-fs@4.2.3 \n",
      "│ │ └── memory-fs@0.5.0 \n",
      "│ ├─┬ eslint-scope@4.0.3 \n",
      "│ │ ├── esrecurse@4.2.1 \n",
      "│ │ └── estraverse@4.3.0 \n",
      "│ ├── json-parse-better-errors@1.0.2 \n",
      "│ ├── loader-runner@2.4.0 \n",
      "│ ├─┬ loader-utils@1.4.0 \n",
      "│ │ ├── big.js@5.2.2 \n",
      "│ │ ├── emojis-list@3.0.0 \n",
      "│ │ └─┬ json5@1.0.1 \n",
      "│ │   └── minimist@1.2.0 \n",
      "│ ├─┬ memory-fs@0.4.1 \n",
      "│ │ ├─┬ errno@0.1.7 \n",
      "│ │ │ └── prr@1.0.1 \n",
      "│ │ └─┬ readable-stream@2.3.7 \n",
      "│ │   ├── core-util-is@1.0.2 \n",
      "│ │   ├── inherits@2.0.4 \n",
      "│ │   ├── isarray@1.0.0 \n",
      "│ │   ├── process-nextick-args@2.0.1 \n",
      "│ │   ├── safe-buffer@5.1.2 \n",
      "│ │   └── util-deprecate@1.0.2 \n",
      "│ ├─┬ micromatch@3.1.10 \n",
      "│ │ ├── arr-diff@4.0.0 \n",
      "│ │ ├── array-unique@0.3.2 \n",
      "│ │ ├─┬ braces@2.3.2 \n",
      "│ │ │ ├── arr-flatten@1.1.0 \n",
      "│ │ │ ├─┬ extend-shallow@2.0.1 \n",
      "│ │ │ │ └── is-extendable@0.1.1 \n",
      "│ │ │ ├─┬ fill-range@4.0.0 \n",
      "│ │ │ │ ├── extend-shallow@2.0.1 \n",
      "│ │ │ │ ├─┬ is-number@3.0.0 \n",
      "│ │ │ │ │ └─┬ kind-of@3.2.2 \n",
      "│ │ │ │ │   └── is-buffer@1.1.6 \n",
      "│ │ │ │ ├── repeat-string@1.6.1 \n",
      "│ │ │ │ └── to-regex-range@2.1.1 \n",
      "│ │ │ ├── isobject@3.0.1 \n",
      "│ │ │ ├── repeat-element@1.1.3 \n",
      "│ │ │ ├─┬ snapdragon-node@2.1.1 \n",
      "│ │ │ │ ├─┬ define-property@1.0.0 \n",
      "│ │ │ │ │ └─┬ is-descriptor@1.0.2 \n",
      "│ │ │ │ │   ├── is-accessor-descriptor@1.0.0 \n",
      "│ │ │ │ │   └── is-data-descriptor@1.0.0 \n",
      "│ │ │ │ └─┬ snapdragon-util@3.0.1 \n",
      "│ │ │ │   └── kind-of@3.2.2 \n",
      "│ │ │ └── split-string@3.1.0 \n",
      "│ │ ├─┬ define-property@2.0.2 \n",
      "│ │ │ └─┬ is-descriptor@1.0.2 \n",
      "│ │ │   ├── is-accessor-descriptor@1.0.0 \n",
      "│ │ │   └── is-data-descriptor@1.0.0 \n",
      "│ │ ├─┬ extend-shallow@3.0.2 \n",
      "│ │ │ ├── assign-symbols@1.0.0 \n",
      "│ │ │ └─┬ is-extendable@1.0.1 \n",
      "│ │ │   └── is-plain-object@2.0.4 \n",
      "│ │ ├─┬ extglob@2.0.4 \n",
      "│ │ │ ├─┬ define-property@1.0.0 \n",
      "│ │ │ │ └─┬ is-descriptor@1.0.2 \n",
      "│ │ │ │   ├── is-accessor-descriptor@1.0.0 \n",
      "│ │ │ │   └── is-data-descriptor@1.0.0 \n",
      "│ │ │ ├─┬ expand-brackets@2.1.4 \n",
      "│ │ │ │ ├── define-property@0.2.5 \n",
      "│ │ │ │ ├── extend-shallow@2.0.1 \n",
      "│ │ │ │ └── posix-character-classes@0.1.1 \n",
      "│ │ │ └── extend-shallow@2.0.1 \n",
      "│ │ ├─┬ fragment-cache@0.2.1 \n",
      "│ │ │ └── map-cache@0.2.2 \n",
      "│ │ ├── kind-of@6.0.3 \n",
      "│ │ ├─┬ nanomatch@1.2.13 \n",
      "│ │ │ └── is-windows@1.0.2 \n",
      "│ │ ├── object.pick@1.3.0 \n",
      "│ │ ├─┬ regex-not@1.0.2 \n",
      "│ │ │ └─┬ safe-regex@1.1.0 \n",
      "│ │ │   └── ret@0.1.15 \n",
      "│ │ ├─┬ snapdragon@0.8.2 \n",
      "│ │ │ ├─┬ base@0.11.2 \n",
      "│ │ │ │ ├─┬ cache-base@1.0.1 \n",
      "│ │ │ │ │ ├─┬ collection-visit@1.0.0 \n",
      "│ │ │ │ │ │ ├── map-visit@1.0.0 \n",
      "│ │ │ │ │ │ └── object-visit@1.0.1 \n",
      "│ │ │ │ │ ├── get-value@2.0.6 \n",
      "│ │ │ │ │ ├─┬ has-value@1.0.0 \n",
      "│ │ │ │ │ │ └─┬ has-values@1.0.0 \n",
      "│ │ │ │ │ │   └── kind-of@4.0.0 \n",
      "│ │ │ │ │ ├─┬ set-value@2.0.1 \n",
      "│ │ │ │ │ │ └── extend-shallow@2.0.1 \n",
      "│ │ │ │ │ ├─┬ to-object-path@0.3.0 \n",
      "│ │ │ │ │ │ └── kind-of@3.2.2 \n",
      "│ │ │ │ │ ├── union-value@1.0.1 \n",
      "│ │ │ │ │ └─┬ unset-value@1.0.0 \n",
      "│ │ │ │ │   └─┬ has-value@0.3.1 \n",
      "│ │ │ │ │     ├── has-values@0.1.4 \n",
      "│ │ │ │ │     └── isobject@2.1.0 \n",
      "│ │ │ │ ├─┬ class-utils@0.3.6 \n",
      "│ │ │ │ │ ├── arr-union@3.1.0 \n",
      "│ │ │ │ │ ├── define-property@0.2.5 \n",
      "│ │ │ │ │ └─┬ static-extend@0.1.2 \n",
      "│ │ │ │ │   ├── define-property@0.2.5 \n",
      "│ │ │ │ │   └─┬ object-copy@0.1.0 \n",
      "│ │ │ │ │     ├── copy-descriptor@0.1.1 \n",
      "│ │ │ │ │     ├── define-property@0.2.5 \n",
      "│ │ │ │ │     └── kind-of@3.2.2 \n",
      "│ │ │ │ ├── component-emitter@1.3.0 \n",
      "│ │ │ │ ├─┬ define-property@1.0.0 \n",
      "│ │ │ │ │ └─┬ is-descriptor@1.0.2 \n",
      "│ │ │ │ │   ├── is-accessor-descriptor@1.0.0 \n",
      "│ │ │ │ │   └── is-data-descriptor@1.0.0 \n",
      "│ │ │ │ ├─┬ mixin-deep@1.3.2 \n",
      "│ │ │ │ │ ├── for-in@1.0.2 \n",
      "│ │ │ │ │ └── is-extendable@1.0.1 \n",
      "│ │ │ │ └── pascalcase@0.1.1 \n",
      "│ │ │ ├─┬ debug@2.6.9 \n",
      "│ │ │ │ └── ms@2.0.0 \n",
      "│ │ │ ├─┬ define-property@0.2.5 \n",
      "│ │ │ │ └─┬ is-descriptor@0.1.6 \n",
      "│ │ │ │   ├─┬ is-accessor-descriptor@0.1.6 \n",
      "│ │ │ │   │ └── kind-of@3.2.2 \n",
      "│ │ │ │   ├─┬ is-data-descriptor@0.1.4 \n",
      "│ │ │ │   │ └── kind-of@3.2.2 \n",
      "│ │ │ │   └── kind-of@5.1.0 \n",
      "│ │ │ ├── extend-shallow@2.0.1 \n",
      "│ │ │ ├── source-map@0.5.7 \n",
      "│ │ │ ├─┬ source-map-resolve@0.5.3 \n",
      "│ │ │ │ ├── atob@2.1.2 \n",
      "│ │ │ │ ├── decode-uri-component@0.2.0 \n",
      "│ │ │ │ ├── resolve-url@0.2.1 \n",
      "│ │ │ │ ├── source-map-url@0.4.0 \n",
      "│ │ │ │ └── urix@0.1.0 \n",
      "│ │ │ └── use@3.1.1 \n",
      "│ │ └── to-regex@3.0.2 \n",
      "│ ├─┬ mkdirp@0.5.1 \n",
      "│ │ └── minimist@0.0.8 \n",
      "│ ├── neo-async@2.6.1 \n",
      "│ ├─┬ node-libs-browser@2.2.1 \n",
      "│ │ ├─┬ assert@1.5.0 \n",
      "│ │ │ ├── object-assign@4.1.1 \n",
      "│ │ │ └─┬ util@0.10.3 \n",
      "│ │ │   └── inherits@2.0.1 \n",
      "│ │ ├─┬ browserify-zlib@0.2.0 \n",
      "│ │ │ └── pako@1.0.11 \n",
      "│ │ ├─┬ buffer@4.9.2 \n",
      "│ │ │ ├── base64-js@1.3.1 \n",
      "│ │ │ └── ieee754@1.1.13 \n",
      "│ │ ├── console-browserify@1.2.0 \n",
      "│ │ ├── constants-browserify@1.0.0 \n",
      "│ │ ├─┬ crypto-browserify@3.12.0 \n",
      "│ │ │ ├─┬ browserify-cipher@1.0.1 \n",
      "│ │ │ │ ├─┬ browserify-aes@1.2.0 \n",
      "│ │ │ │ │ └── buffer-xor@1.0.3 \n",
      "│ │ │ │ ├─┬ browserify-des@1.0.2 \n",
      "│ │ │ │ │ └── des.js@1.0.1 \n",
      "│ │ │ │ └── evp_bytestokey@1.0.3 \n",
      "│ │ │ ├─┬ browserify-sign@4.0.4 \n",
      "│ │ │ │ ├── bn.js@4.11.8 \n",
      "│ │ │ │ ├── browserify-rsa@4.0.1 \n",
      "│ │ │ │ ├─┬ elliptic@6.5.2 \n",
      "│ │ │ │ │ ├── brorand@1.1.0 \n",
      "│ │ │ │ │ ├── hash.js@1.1.7 \n",
      "│ │ │ │ │ ├── hmac-drbg@1.0.1 \n",
      "│ │ │ │ │ ├── minimalistic-assert@1.0.1 \n",
      "│ │ │ │ │ └── minimalistic-crypto-utils@1.0.1 \n",
      "│ │ │ │ └─┬ parse-asn1@5.1.5 \n",
      "│ │ │ │   └── asn1.js@4.10.1 \n",
      "│ │ │ ├── create-ecdh@4.0.3 \n",
      "│ │ │ ├─┬ create-hash@1.2.0 \n",
      "│ │ │ │ ├── cipher-base@1.0.4 \n",
      "│ │ │ │ ├─┬ md5.js@1.3.5 \n",
      "│ │ │ │ │ └── hash-base@3.0.4 \n",
      "│ │ │ │ ├── ripemd160@2.0.2 \n",
      "│ │ │ │ └── sha.js@2.4.11 \n",
      "│ │ │ ├── create-hmac@1.1.7 \n",
      "│ │ │ ├─┬ diffie-hellman@5.0.3 \n",
      "│ │ │ │ └── miller-rabin@4.0.1 \n",
      "│ │ │ ├── pbkdf2@3.0.17 \n",
      "│ │ │ ├── public-encrypt@4.0.3 \n",
      "│ │ │ ├── randombytes@2.1.0 \n",
      "│ │ │ └── randomfill@1.0.4 \n",
      "│ │ ├── domain-browser@1.2.0 \n",
      "│ │ ├── events@3.1.0 \n",
      "│ │ ├── https-browserify@1.0.0 \n",
      "│ │ ├── os-browserify@0.3.0 \n",
      "│ │ ├── path-browserify@0.0.1 \n",
      "│ │ ├── process@0.11.10 \n",
      "│ │ ├── punycode@1.4.1 \n",
      "│ │ ├── querystring-es3@0.2.1 \n",
      "│ │ ├── stream-browserify@2.0.2 \n",
      "│ │ ├─┬ stream-http@2.8.3 \n",
      "│ │ │ ├── builtin-status-codes@3.0.0 \n",
      "│ │ │ ├── to-arraybuffer@1.0.1 \n",
      "│ │ │ └── xtend@4.0.2 \n",
      "│ │ ├── string_decoder@1.1.1 \n",
      "│ │ ├─┬ timers-browserify@2.0.11 \n",
      "│ │ │ └── setimmediate@1.0.5 \n",
      "│ │ ├── tty-browserify@0.0.0 \n",
      "│ │ ├─┬ url@0.11.0 \n",
      "│ │ │ ├── punycode@1.3.2 \n",
      "│ │ │ └── querystring@0.2.0 \n",
      "│ │ ├─┬ util@0.11.1 \n",
      "│ │ │ └── inherits@2.0.3 \n",
      "│ │ └── vm-browserify@1.1.2 \n",
      "│ ├─┬ schema-utils@1.0.0 \n",
      "│ │ └── ajv-errors@1.0.1 \n",
      "│ ├── tapable@1.1.3 \n",
      "│ ├─┬ terser-webpack-plugin@1.4.3 \n",
      "│ │ ├─┬ cacache@12.0.3 \n",
      "│ │ │ ├── bluebird@3.7.2 \n",
      "│ │ │ ├── chownr@1.1.4 \n",
      "│ │ │ ├── figgy-pudding@3.5.1 \n",
      "│ │ │ ├─┬ glob@7.1.6 \n",
      "│ │ │ │ ├── fs.realpath@1.0.0 \n",
      "│ │ │ │ ├─┬ inflight@1.0.6 \n",
      "│ │ │ │ │ └── wrappy@1.0.2 \n",
      "│ │ │ │ ├─┬ minimatch@3.0.4 \n",
      "│ │ │ │ │ └─┬ brace-expansion@1.1.11 \n",
      "│ │ │ │ │   ├── balanced-match@1.0.0 \n",
      "│ │ │ │ │   └── concat-map@0.0.1 \n",
      "│ │ │ │ └── once@1.4.0 \n",
      "│ │ │ ├── infer-owner@1.0.4 \n",
      "│ │ │ ├─┬ lru-cache@5.1.1 \n",
      "│ │ │ │ └── yallist@3.1.1 \n",
      "│ │ │ ├─┬ mississippi@3.0.0 \n",
      "│ │ │ │ ├─┬ concat-stream@1.6.2 \n",
      "│ │ │ │ │ └── typedarray@0.0.6 \n",
      "│ │ │ │ ├─┬ duplexify@3.7.1 \n",
      "│ │ │ │ │ └── stream-shift@1.0.1 \n",
      "│ │ │ │ ├── end-of-stream@1.4.4 \n",
      "│ │ │ │ ├── flush-write-stream@1.1.1 \n",
      "│ │ │ │ ├── from2@2.3.0 \n",
      "│ │ │ │ ├─┬ parallel-transform@1.2.0 \n",
      "│ │ │ │ │ └── cyclist@1.0.1 \n",
      "│ │ │ │ ├── pump@3.0.0 \n",
      "│ │ │ │ ├─┬ pumpify@1.5.1 \n",
      "│ │ │ │ │ └── pump@2.0.1 \n",
      "│ │ │ │ ├── stream-each@1.2.3 \n",
      "│ │ │ │ └── through2@2.0.5 \n",
      "│ │ │ ├─┬ move-concurrently@1.0.1 \n",
      "│ │ │ │ ├── aproba@1.2.0 \n",
      "│ │ │ │ ├─┬ copy-concurrently@1.0.5 \n",
      "│ │ │ │ │ └── iferr@0.1.5 \n",
      "│ │ │ │ ├─┬ fs-write-stream-atomic@1.0.10 \n",
      "│ │ │ │ │ └── imurmurhash@0.1.4 \n",
      "│ │ │ │ └── run-queue@1.0.3 \n",
      "│ │ │ ├── promise-inflight@1.0.1 \n",
      "│ │ │ ├── rimraf@2.7.1 \n",
      "│ │ │ ├── ssri@6.0.1 \n",
      "│ │ │ └─┬ unique-filename@1.1.1 \n",
      "│ │ │   └── unique-slug@2.0.2 \n",
      "│ │ ├─┬ find-cache-dir@2.1.0 \n",
      "│ │ │ ├── commondir@1.0.1 \n",
      "│ │ │ └─┬ make-dir@2.1.0 \n",
      "│ │ │   └── pify@4.0.1 \n",
      "│ │ ├── is-wsl@1.1.0 \n",
      "│ │ ├── serialize-javascript@2.1.2 \n",
      "│ │ ├── source-map@0.6.1 \n",
      "│ │ ├─┬ terser@4.6.6 \n",
      "│ │ │ ├── commander@2.20.3 \n",
      "│ │ │ ├── source-map@0.6.1 \n",
      "│ │ │ └─┬ source-map-support@0.5.16 \n",
      "│ │ │   ├── buffer-from@1.1.1 \n",
      "│ │ │   └── source-map@0.6.1 \n",
      "│ │ └── worker-farm@1.7.0 \n",
      "│ ├─┬ watchpack@1.6.0 \n",
      "│ │ └─┬ chokidar@2.1.8 \n",
      "│ │   ├─┬ anymatch@2.0.0 \n",
      "│ │   │ └─┬ normalize-path@2.1.1 \n",
      "│ │   │   └── remove-trailing-separator@1.1.0 \n",
      "│ │   ├── async-each@1.0.3 \n",
      "│ │   ├─┬ glob-parent@3.1.0 \n",
      "│ │   │ ├── is-glob@3.1.0 \n",
      "│ │   │ └── path-dirname@1.0.2 \n",
      "│ │   ├─┬ is-binary-path@1.0.1 \n",
      "│ │   │ └── binary-extensions@1.13.1 \n",
      "│ │   ├── normalize-path@3.0.0 \n",
      "│ │   ├── path-is-absolute@1.0.1 \n",
      "│ │   ├── readdirp@2.2.1 \n",
      "│ │   └── upath@1.2.0 \n",
      "│ └─┬ webpack-sources@1.4.3 \n",
      "│   ├── source-list-map@2.0.1 \n",
      "│   └── source-map@0.6.1 \n",
      "└─┬ webpack-cli@3.3.11 \n",
      "  ├─┬ chalk@2.4.2 \n",
      "  │ ├─┬ ansi-styles@3.2.1 \n",
      "  │ │ └─┬ color-convert@1.9.3 \n",
      "  │ │   └── color-name@1.1.3 \n",
      "  │ ├── escape-string-regexp@1.0.5 \n",
      "  │ └── supports-color@5.5.0 \n",
      "  ├─┬ cross-spawn@6.0.5 \n",
      "  │ ├── nice-try@1.0.5 \n",
      "  │ ├── path-key@2.0.1 \n",
      "  │ ├── semver@5.7.1 \n",
      "  │ ├─┬ shebang-command@1.2.0 \n",
      "  │ │ └── shebang-regex@1.0.0 \n",
      "  │ └─┬ which@1.3.1 \n",
      "  │   └── isexe@2.0.0 \n",
      "  ├── enhanced-resolve@4.1.0 \n",
      "  ├─┬ findup-sync@3.0.0 \n",
      "  │ ├── detect-file@1.0.0 \n",
      "  │ ├─┬ is-glob@4.0.1 \n",
      "  │ │ └── is-extglob@2.1.1 \n",
      "  │ └─┬ resolve-dir@1.0.1 \n",
      "  │   ├─┬ expand-tilde@2.0.2 \n",
      "  │   │ └─┬ homedir-polyfill@1.0.3 \n",
      "  │   │   └── parse-passwd@1.0.0 \n",
      "  │   └─┬ global-modules@1.0.0 \n",
      "  │     └── global-prefix@1.0.2 \n",
      "  ├─┬ global-modules@2.0.0 \n",
      "  │ └─┬ global-prefix@3.0.0 \n",
      "  │   └── ini@1.3.5 \n",
      "  ├─┬ import-local@2.0.0 \n",
      "  │ ├── pkg-dir@3.0.0 \n",
      "  │ └─┬ resolve-cwd@2.0.0 \n",
      "  │   └── resolve-from@3.0.0 \n",
      "  ├── interpret@1.2.0 \n",
      "  ├─┬ loader-utils@1.2.3 \n",
      "  │ └── emojis-list@2.1.0 \n",
      "  ├─┬ supports-color@6.1.0 \n",
      "  │ └── has-flag@3.0.0 \n",
      "  ├── v8-compile-cache@2.0.3 \n",
      "  └─┬ yargs@13.2.4 \n",
      "    ├─┬ cliui@5.0.0 \n",
      "    │ ├─┬ strip-ansi@5.2.0 \n",
      "    │ │ └── ansi-regex@4.1.0 \n",
      "    │ └── wrap-ansi@5.1.0 \n",
      "    ├─┬ find-up@3.0.0 \n",
      "    │ └─┬ locate-path@3.0.0 \n",
      "    │   ├─┬ p-locate@3.0.0 \n",
      "    │   │ └─┬ p-limit@2.2.2 \n",
      "    │   │   └── p-try@2.2.0 \n",
      "    │   └── path-exists@3.0.0 \n",
      "    ├── get-caller-file@2.0.5 \n",
      "    ├─┬ os-locale@3.1.0 \n",
      "    │ ├─┬ execa@1.0.0 \n",
      "    │ │ ├── get-stream@4.1.0 \n",
      "    │ │ ├── is-stream@1.1.0 \n",
      "    │ │ ├── npm-run-path@2.0.2 \n",
      "    │ │ ├── p-finally@1.0.0 \n",
      "    │ │ ├── signal-exit@3.0.2 \n",
      "    │ │ └── strip-eof@1.0.0 \n",
      "    │ ├─┬ lcid@2.0.0 \n",
      "    │ │ └── invert-kv@2.0.0 \n",
      "    │ └─┬ mem@4.3.0 \n",
      "    │   ├─┬ map-age-cleaner@0.1.3 \n",
      "    │   │ └── p-defer@1.0.0 \n",
      "    │   ├── mimic-fn@2.1.0 \n",
      "    │   └── p-is-promise@2.1.0 \n",
      "    ├── require-directory@2.1.1 \n",
      "    ├── require-main-filename@2.0.0 \n",
      "    ├── set-blocking@2.0.0 \n",
      "    ├─┬ string-width@3.1.0 \n",
      "    │ ├── emoji-regex@7.0.3 \n",
      "    │ └── is-fullwidth-code-point@2.0.0 \n",
      "    ├── which-module@2.0.0 \n",
      "    ├── y18n@4.0.0 \n",
      "    └─┬ yargs-parser@13.1.1 \n",
      "      ├── camelcase@5.3.1 \n",
      "      └── decamelize@1.2.0 \n",
      "\n"
     ]
    },
    {
     "name": "stderr",
     "output_type": "stream",
     "text": [
      "npm WARN optional Skipping failed optional dependency /chokidar/fsevents:\n",
      "npm WARN notsup Not compatible with your operating system or architecture: fsevents@1.2.11\n"
     ]
    }
   ],
   "source": [
    "%%bash\n",
    "npm install -D webpack webpack-cli"
   ]
  },
  {
   "cell_type": "code",
   "execution_count": null,
   "metadata": {},
   "outputs": [],
   "source": [
    "%%bash\n",
    "sudo apt update\n",
    "sudo apt install webpack"
   ]
  },
  {
   "cell_type": "markdown",
   "metadata": {},
   "source": [
    "Можно управлять webpack через консоль, но лучше управление осуществлять через файл webpack.config.js. Не идет в проект, а работает для сборки проекта, поэтому можно использовать полноценно NodeJs"
   ]
  },
  {
   "cell_type": "markdown",
   "metadata": {},
   "source": [
    "Наше приложение стартует с index.js. В webpack.config.js прописываем следующие настройки"
   ]
  },
  {
   "cell_type": "code",
   "execution_count": null,
   "metadata": {},
   "outputs": [],
   "source": [
    "const path = require('path')\n",
    "\n",
    "module.exports = {\n",
    "    entry: './src/index.js', //откуда начать\n",
    "    output: { //выход\n",
    "        filename: \"bundle.js\",\n",
    "        path: path.resolve(__dirname, 'dist') //__dirname - корневая директория\n",
    "    }\n",
    "}"
   ]
  },
  {
   "cell_type": "code",
   "execution_count": 13,
   "metadata": {},
   "outputs": [
    {
     "name": "stdout",
     "output_type": "stream",
     "text": [
      "Hash: f492c67f217548b15e54\n",
      "Version: webpack 4.42.0\n",
      "Time: 60ms\n",
      "Built at: 06.03.2020 20:02:01\n",
      "    Asset       Size  Chunks             Chunk Names\n",
      "bundle.js  995 bytes       0  [emitted]  main\n",
      "Entrypoint main = bundle.js\n",
      "[0] ./src/index.js 73 bytes {0} [built]\n",
      "\n",
      "WARNING in configuration\n",
      "The 'mode' option has not been set, webpack will fallback to 'production' for this value. Set 'mode' option to 'development' or 'production' to enable defaults for each environment.\n",
      "You can also set it to 'none' to disable any default behavior. Learn more: https://webpack.js.org/configuration/mode/\n"
     ]
    }
   ],
   "source": [
    "%%bash\n",
    "webpack"
   ]
  },
  {
   "cell_type": "markdown",
   "metadata": {},
   "source": [
    "По умолчанию webpack собирает проект в режиме production.<br>\n",
    "mode: 'development',\n",
    "то проект будет собираеться в режиме разработки"
   ]
  },
  {
   "cell_type": "markdown",
   "metadata": {},
   "source": [
    "Веб-пак подгружает различные импорты автоматически и благодаря этому нам не нужно загружать скрипты в index.html вручную. Несколько файлов js собираются в один файл."
   ]
  },
  {
   "cell_type": "markdown",
   "metadata": {},
   "source": [
    "Экспортируем класс из файла Post.js и импортируем его в index.js"
   ]
  },
  {
   "cell_type": "markdown",
   "metadata": {},
   "source": [
    "* d12eec9 2020-03-06 | Используем webpack для сборки bundle.js. Убрали ручное подключение Post.js. А вместо этого экспортировали Post.js и импортрировали в index.js (HEAD -> master) [SVA]"
   ]
  },
  {
   "cell_type": "markdown",
   "metadata": {},
   "source": [
    "### Подключаем analytics.js"
   ]
  },
  {
   "cell_type": "markdown",
   "metadata": {},
   "source": [
    "Так как аналитика у нас идет отдельно, то добавим ее, как вторую входную точку в index.js"
   ]
  },
  {
   "cell_type": "code",
   "execution_count": null,
   "metadata": {},
   "outputs": [],
   "source": [
    "entry: {\n",
    "    main: './src/index.js', //откуда начать\n",
    "    analytics: './src/analytics.js' // добавили вторую точку входа\n",
    "}"
   ]
  },
  {
   "cell_type": "code",
   "execution_count": 17,
   "metadata": {},
   "outputs": [
    {
     "name": "stdout",
     "output_type": "stream",
     "text": [
      "Hash: ce1b7f310d6c1f6c6265\n",
      "Version: webpack 4.42.0\n",
      "Time: 70ms\n",
      "Built at: 06.03.2020 20:27:02\n",
      "    Asset      Size     Chunks             Chunk Names\n",
      "bundle.js  4.09 KiB  analytics  [emitted]  analytics\n",
      "Entrypoint main =\n",
      "Entrypoint analytics = bundle.js\n",
      "[./src/Post.js] 167 bytes {main} [built]\n",
      "[./src/analytics.js] 294 bytes {analytics} [built]\n",
      "[./src/index.js] 100 bytes {main} [built]\n",
      "\n",
      "ERROR in chunk main [entry]\n",
      "bundle.js\n",
      "Conflict: Multiple chunks emit assets to the same filename bundle.js (chunks analytics and main)\n"
     ]
    },
    {
     "ename": "CalledProcessError",
     "evalue": "Command 'b'webpack\\n'' returned non-zero exit status 2.",
     "output_type": "error",
     "traceback": [
      "\u001b[0;31m---------------------------------------------------------------------------\u001b[0m",
      "\u001b[0;31mCalledProcessError\u001b[0m                        Traceback (most recent call last)",
      "\u001b[0;32m<ipython-input-17-9e3b9e1960ab>\u001b[0m in \u001b[0;36m<module>\u001b[0;34m\u001b[0m\n\u001b[0;32m----> 1\u001b[0;31m \u001b[0mget_ipython\u001b[0m\u001b[0;34m(\u001b[0m\u001b[0;34m)\u001b[0m\u001b[0;34m.\u001b[0m\u001b[0mrun_cell_magic\u001b[0m\u001b[0;34m(\u001b[0m\u001b[0;34m'bash'\u001b[0m\u001b[0;34m,\u001b[0m \u001b[0;34m''\u001b[0m\u001b[0;34m,\u001b[0m \u001b[0;34m'webpack\\n'\u001b[0m\u001b[0;34m)\u001b[0m\u001b[0;34m\u001b[0m\u001b[0;34m\u001b[0m\u001b[0m\n\u001b[0m",
      "\u001b[0;32m~/Data Science/venv/lib/python3.6/site-packages/IPython/core/interactiveshell.py\u001b[0m in \u001b[0;36mrun_cell_magic\u001b[0;34m(self, magic_name, line, cell)\u001b[0m\n\u001b[1;32m   2321\u001b[0m             \u001b[0mmagic_arg_s\u001b[0m \u001b[0;34m=\u001b[0m \u001b[0mself\u001b[0m\u001b[0;34m.\u001b[0m\u001b[0mvar_expand\u001b[0m\u001b[0;34m(\u001b[0m\u001b[0mline\u001b[0m\u001b[0;34m,\u001b[0m \u001b[0mstack_depth\u001b[0m\u001b[0;34m)\u001b[0m\u001b[0;34m\u001b[0m\u001b[0;34m\u001b[0m\u001b[0m\n\u001b[1;32m   2322\u001b[0m             \u001b[0;32mwith\u001b[0m \u001b[0mself\u001b[0m\u001b[0;34m.\u001b[0m\u001b[0mbuiltin_trap\u001b[0m\u001b[0;34m:\u001b[0m\u001b[0;34m\u001b[0m\u001b[0;34m\u001b[0m\u001b[0m\n\u001b[0;32m-> 2323\u001b[0;31m                 \u001b[0mresult\u001b[0m \u001b[0;34m=\u001b[0m \u001b[0mfn\u001b[0m\u001b[0;34m(\u001b[0m\u001b[0mmagic_arg_s\u001b[0m\u001b[0;34m,\u001b[0m \u001b[0mcell\u001b[0m\u001b[0;34m)\u001b[0m\u001b[0;34m\u001b[0m\u001b[0;34m\u001b[0m\u001b[0m\n\u001b[0m\u001b[1;32m   2324\u001b[0m             \u001b[0;32mreturn\u001b[0m \u001b[0mresult\u001b[0m\u001b[0;34m\u001b[0m\u001b[0;34m\u001b[0m\u001b[0m\n\u001b[1;32m   2325\u001b[0m \u001b[0;34m\u001b[0m\u001b[0m\n",
      "\u001b[0;32m~/Data Science/venv/lib/python3.6/site-packages/IPython/core/magics/script.py\u001b[0m in \u001b[0;36mnamed_script_magic\u001b[0;34m(line, cell)\u001b[0m\n\u001b[1;32m    140\u001b[0m             \u001b[0;32melse\u001b[0m\u001b[0;34m:\u001b[0m\u001b[0;34m\u001b[0m\u001b[0;34m\u001b[0m\u001b[0m\n\u001b[1;32m    141\u001b[0m                 \u001b[0mline\u001b[0m \u001b[0;34m=\u001b[0m \u001b[0mscript\u001b[0m\u001b[0;34m\u001b[0m\u001b[0;34m\u001b[0m\u001b[0m\n\u001b[0;32m--> 142\u001b[0;31m             \u001b[0;32mreturn\u001b[0m \u001b[0mself\u001b[0m\u001b[0;34m.\u001b[0m\u001b[0mshebang\u001b[0m\u001b[0;34m(\u001b[0m\u001b[0mline\u001b[0m\u001b[0;34m,\u001b[0m \u001b[0mcell\u001b[0m\u001b[0;34m)\u001b[0m\u001b[0;34m\u001b[0m\u001b[0;34m\u001b[0m\u001b[0m\n\u001b[0m\u001b[1;32m    143\u001b[0m \u001b[0;34m\u001b[0m\u001b[0m\n\u001b[1;32m    144\u001b[0m         \u001b[0;31m# write a basic docstring:\u001b[0m\u001b[0;34m\u001b[0m\u001b[0;34m\u001b[0m\u001b[0;34m\u001b[0m\u001b[0m\n",
      "\u001b[0;32m<decorator-gen-109>\u001b[0m in \u001b[0;36mshebang\u001b[0;34m(self, line, cell)\u001b[0m\n",
      "\u001b[0;32m~/Data Science/venv/lib/python3.6/site-packages/IPython/core/magic.py\u001b[0m in \u001b[0;36m<lambda>\u001b[0;34m(f, *a, **k)\u001b[0m\n\u001b[1;32m    185\u001b[0m     \u001b[0;31m# but it's overkill for just that one bit of state.\u001b[0m\u001b[0;34m\u001b[0m\u001b[0;34m\u001b[0m\u001b[0;34m\u001b[0m\u001b[0m\n\u001b[1;32m    186\u001b[0m     \u001b[0;32mdef\u001b[0m \u001b[0mmagic_deco\u001b[0m\u001b[0;34m(\u001b[0m\u001b[0marg\u001b[0m\u001b[0;34m)\u001b[0m\u001b[0;34m:\u001b[0m\u001b[0;34m\u001b[0m\u001b[0;34m\u001b[0m\u001b[0m\n\u001b[0;32m--> 187\u001b[0;31m         \u001b[0mcall\u001b[0m \u001b[0;34m=\u001b[0m \u001b[0;32mlambda\u001b[0m \u001b[0mf\u001b[0m\u001b[0;34m,\u001b[0m \u001b[0;34m*\u001b[0m\u001b[0ma\u001b[0m\u001b[0;34m,\u001b[0m \u001b[0;34m**\u001b[0m\u001b[0mk\u001b[0m\u001b[0;34m:\u001b[0m \u001b[0mf\u001b[0m\u001b[0;34m(\u001b[0m\u001b[0;34m*\u001b[0m\u001b[0ma\u001b[0m\u001b[0;34m,\u001b[0m \u001b[0;34m**\u001b[0m\u001b[0mk\u001b[0m\u001b[0;34m)\u001b[0m\u001b[0;34m\u001b[0m\u001b[0;34m\u001b[0m\u001b[0m\n\u001b[0m\u001b[1;32m    188\u001b[0m \u001b[0;34m\u001b[0m\u001b[0m\n\u001b[1;32m    189\u001b[0m         \u001b[0;32mif\u001b[0m \u001b[0mcallable\u001b[0m\u001b[0;34m(\u001b[0m\u001b[0marg\u001b[0m\u001b[0;34m)\u001b[0m\u001b[0;34m:\u001b[0m\u001b[0;34m\u001b[0m\u001b[0;34m\u001b[0m\u001b[0m\n",
      "\u001b[0;32m~/Data Science/venv/lib/python3.6/site-packages/IPython/core/magics/script.py\u001b[0m in \u001b[0;36mshebang\u001b[0;34m(self, line, cell)\u001b[0m\n\u001b[1;32m    243\u001b[0m             \u001b[0msys\u001b[0m\u001b[0;34m.\u001b[0m\u001b[0mstderr\u001b[0m\u001b[0;34m.\u001b[0m\u001b[0mflush\u001b[0m\u001b[0;34m(\u001b[0m\u001b[0;34m)\u001b[0m\u001b[0;34m\u001b[0m\u001b[0;34m\u001b[0m\u001b[0m\n\u001b[1;32m    244\u001b[0m         \u001b[0;32mif\u001b[0m \u001b[0margs\u001b[0m\u001b[0;34m.\u001b[0m\u001b[0mraise_error\u001b[0m \u001b[0;32mand\u001b[0m \u001b[0mp\u001b[0m\u001b[0;34m.\u001b[0m\u001b[0mreturncode\u001b[0m\u001b[0;34m!=\u001b[0m\u001b[0;36m0\u001b[0m\u001b[0;34m:\u001b[0m\u001b[0;34m\u001b[0m\u001b[0;34m\u001b[0m\u001b[0m\n\u001b[0;32m--> 245\u001b[0;31m             \u001b[0;32mraise\u001b[0m \u001b[0mCalledProcessError\u001b[0m\u001b[0;34m(\u001b[0m\u001b[0mp\u001b[0m\u001b[0;34m.\u001b[0m\u001b[0mreturncode\u001b[0m\u001b[0;34m,\u001b[0m \u001b[0mcell\u001b[0m\u001b[0;34m,\u001b[0m \u001b[0moutput\u001b[0m\u001b[0;34m=\u001b[0m\u001b[0mout\u001b[0m\u001b[0;34m,\u001b[0m \u001b[0mstderr\u001b[0m\u001b[0;34m=\u001b[0m\u001b[0merr\u001b[0m\u001b[0;34m)\u001b[0m\u001b[0;34m\u001b[0m\u001b[0;34m\u001b[0m\u001b[0m\n\u001b[0m\u001b[1;32m    246\u001b[0m \u001b[0;34m\u001b[0m\u001b[0m\n\u001b[1;32m    247\u001b[0m     \u001b[0;32mdef\u001b[0m \u001b[0m_run_script\u001b[0m\u001b[0;34m(\u001b[0m\u001b[0mself\u001b[0m\u001b[0;34m,\u001b[0m \u001b[0mp\u001b[0m\u001b[0;34m,\u001b[0m \u001b[0mcell\u001b[0m\u001b[0;34m,\u001b[0m \u001b[0mto_close\u001b[0m\u001b[0;34m)\u001b[0m\u001b[0;34m:\u001b[0m\u001b[0;34m\u001b[0m\u001b[0;34m\u001b[0m\u001b[0m\n",
      "\u001b[0;31mCalledProcessError\u001b[0m: Command 'b'webpack\\n'' returned non-zero exit status 2."
     ]
    }
   ],
   "source": [
    "%%bash\n",
    "webpack"
   ]
  },
  {
   "cell_type": "markdown",
   "metadata": {},
   "source": [
    "Конфликт случается из-за того, что вы подаем 2 входных файла, а на выход только один. Чтобы этого избежать мы можем добавить паттерн. [name] - будет динамически указывать на имя файла."
   ]
  },
  {
   "cell_type": "code",
   "execution_count": 18,
   "metadata": {},
   "outputs": [
    {
     "name": "stdout",
     "output_type": "stream",
     "text": [
      "Hash: b4050dc05dfda13c53f1\n",
      "Version: webpack 4.42.0\n",
      "Time: 73ms\n",
      "Built at: 06.03.2020 20:34:03\n",
      "              Asset      Size     Chunks             Chunk Names\n",
      "analytics.bundle.js  4.09 KiB  analytics  [emitted]  analytics\n",
      "     main.bundle.js  4.68 KiB       main  [emitted]  main\n",
      "Entrypoint main = main.bundle.js\n",
      "Entrypoint analytics = analytics.bundle.js\n",
      "[./src/Post.js] 167 bytes {main} [built]\n",
      "[./src/analytics.js] 294 bytes {analytics} [built]\n",
      "[./src/index.js] 100 bytes {main} [built]\n"
     ]
    }
   ],
   "source": [
    "%%bash\n",
    "webpack"
   ]
  },
  {
   "cell_type": "markdown",
   "metadata": {},
   "source": [
    "Получаем 2 файла js. Старый bundle пока остается"
   ]
  },
  {
   "cell_type": "markdown",
   "metadata": {},
   "source": [
    "Подключаем файлы main.bundle.js и analytics.bundle.js в index.html в папке dist"
   ]
  },
  {
   "cell_type": "markdown",
   "metadata": {},
   "source": [
    "35:00\n",
    "* 75a4c15 2020-03-06 | Сделали вторую точку входа для файла analytics.js, подключили его отдельно в файле index.html. Использовали паттерн [name] в output (HEAD -> master) [SVA]"
   ]
  },
  {
   "cell_type": "markdown",
   "metadata": {},
   "source": [
    "Могут быть проблемы с кешем. Например, если мы что-то изменим, а файлы такие же, то пользователь не увидит изменений на сайте. "
   ]
  },
  {
   "cell_type": "markdown",
   "metadata": {},
   "source": [
    "Мы можем использовать еще один паттерн в filename [contenthash]"
   ]
  },
  {
   "cell_type": "code",
   "execution_count": 20,
   "metadata": {},
   "outputs": [
    {
     "name": "stdout",
     "output_type": "stream",
     "text": [
      "Hash: ee119893412c1864254e\n",
      "Version: webpack 4.42.0\n",
      "Time: 85ms\n",
      "Built at: 06.03.2020 20:42:11\n",
      "                            Asset      Size     Chunks                         Chunk Names\n",
      "analytics.55d7a591dd530ece62bb.js  4.09 KiB  analytics  [emitted] [immutable]  analytics\n",
      "     main.a8c07d9612dcf209601c.js  4.68 KiB       main  [emitted] [immutable]  main\n",
      "Entrypoint main = main.a8c07d9612dcf209601c.js\n",
      "Entrypoint analytics = analytics.55d7a591dd530ece62bb.js\n",
      "[./src/Post.js] 167 bytes {main} [built]\n",
      "[./src/analytics.js] 294 bytes {analytics} [built]\n",
      "[./src/index.js] 100 bytes {main} [built]\n"
     ]
    }
   ],
   "source": [
    "%%bash\n",
    "webpack"
   ]
  },
  {
   "cell_type": "markdown",
   "metadata": {},
   "source": [
    "Получаем 2 новых файла с уникальными названиями"
   ]
  },
  {
   "cell_type": "markdown",
   "metadata": {},
   "source": [
    "Но если мы меняем контент какого-нибудь js файла, например, analytics.js"
   ]
  },
  {
   "cell_type": "code",
   "execution_count": 22,
   "metadata": {},
   "outputs": [
    {
     "name": "stdout",
     "output_type": "stream",
     "text": [
      "Hash: 403d51cb5db5a504973b\n",
      "Version: webpack 4.42.0\n",
      "Time: 85ms\n",
      "Built at: 06.03.2020 20:45:21\n",
      "                            Asset      Size     Chunks                         Chunk Names\n",
      "analytics.8a1f736c8299fe132c89.js   4.1 KiB  analytics  [emitted] [immutable]  analytics\n",
      "     main.a8c07d9612dcf209601c.js  4.68 KiB       main  [emitted] [immutable]  main\n",
      "Entrypoint main = main.a8c07d9612dcf209601c.js\n",
      "Entrypoint analytics = analytics.8a1f736c8299fe132c89.js\n",
      "[./src/Post.js] 167 bytes {main} [built]\n",
      "[./src/analytics.js] 298 bytes {analytics} [built]\n",
      "[./src/index.js] 100 bytes {main} [built]\n"
     ]
    }
   ],
   "source": [
    "%%bash\n",
    "webpack"
   ]
  },
  {
   "cell_type": "markdown",
   "metadata": {},
   "source": [
    "У main.js остается такой же хэш потому что он не был изменен, а у analytics.js он был изменен. Появился второй файл с аналитикой с новым хэшем"
   ]
  },
  {
   "cell_type": "markdown",
   "metadata": {},
   "source": [
    "Имеется много проблем.\n",
    "1. Не удаляются старый скрипты из dist\n",
    "2. Подключает вручную в index.html, а с хеш постоянно меняется"
   ]
  },
  {
   "cell_type": "markdown",
   "metadata": {},
   "source": [
    "Паттерны для выходных файлов\n",
    "https://webpack.js.org/configuration/output/#outputfilename"
   ]
  },
  {
   "cell_type": "markdown",
   "metadata": {},
   "source": [
    "<img src='./help/img/template_for_filenames.png'>"
   ]
  },
  {
   "cell_type": "markdown",
   "metadata": {},
   "source": [
    "### HTMLWebpackPlugin"
   ]
  },
  {
   "cell_type": "markdown",
   "metadata": {},
   "source": [
    "Чтобы index.html узнал как подключать скрипты, необходимо подключать плагины"
   ]
  },
  {
   "cell_type": "markdown",
   "metadata": {},
   "source": [
    "Необходимо установить"
   ]
  },
  {
   "cell_type": "code",
   "execution_count": 24,
   "metadata": {},
   "outputs": [
    {
     "name": "stdout",
     "output_type": "stream",
     "text": [
      "sva@1.0.0 /home/victor/Development/webpack_test\n",
      "├─┬ html-webpack-plugin@3.2.0 \n",
      "│ ├─┬ html-minifier@3.5.21 \n",
      "│ │ ├─┬ camel-case@3.0.0 \n",
      "│ │ │ ├─┬ no-case@2.3.2 \n",
      "│ │ │ │ └── lower-case@1.1.4 \n",
      "│ │ │ └── upper-case@1.1.3 \n",
      "│ │ ├─┬ clean-css@4.2.3 \n",
      "│ │ │ └── source-map@0.6.1 \n",
      "│ │ ├── commander@2.17.1 \n",
      "│ │ ├── he@1.2.0 \n",
      "│ │ ├── param-case@2.1.1 \n",
      "│ │ ├── relateurl@0.2.7 \n",
      "│ │ └─┬ uglify-js@3.4.10 \n",
      "│ │   ├── commander@2.19.0 \n",
      "│ │   └── source-map@0.6.1 \n",
      "│ ├─┬ loader-utils@0.2.17 \n",
      "│ │ ├── big.js@3.2.0 \n",
      "│ │ ├── emojis-list@2.1.0 \n",
      "│ │ └── json5@0.5.1 \n",
      "│ ├── lodash@4.17.15 \n",
      "│ ├─┬ pretty-error@2.1.1 \n",
      "│ │ ├─┬ renderkid@2.0.3 \n",
      "│ │ │ ├─┬ css-select@1.2.0 \n",
      "│ │ │ │ ├── boolbase@1.0.0 \n",
      "│ │ │ │ ├── css-what@2.1.3 \n",
      "│ │ │ │ ├─┬ domutils@1.5.1 \n",
      "│ │ │ │ │ └─┬ dom-serializer@0.2.2 \n",
      "│ │ │ │ │   ├── domelementtype@2.0.1 \n",
      "│ │ │ │ │   └── entities@2.0.0 \n",
      "│ │ │ │ └── nth-check@1.0.2 \n",
      "│ │ │ ├── dom-converter@0.2.0 \n",
      "│ │ │ ├─┬ htmlparser2@3.10.1 \n",
      "│ │ │ │ ├── domelementtype@1.3.1 \n",
      "│ │ │ │ ├── domhandler@2.4.2 \n",
      "│ │ │ │ ├── entities@1.1.2 \n",
      "│ │ │ │ └── readable-stream@3.6.0 \n",
      "│ │ │ └─┬ strip-ansi@3.0.1 \n",
      "│ │ │   └── ansi-regex@2.1.1 \n",
      "│ │ └── utila@0.4.0 \n",
      "│ ├── toposort@1.0.7 \n",
      "│ └─┬ util.promisify@1.0.0 \n",
      "│   ├─┬ define-properties@1.1.3 \n",
      "│   │ └── object-keys@1.1.1 \n",
      "│   └─┬ object.getownpropertydescriptors@2.1.0 \n",
      "│     └─┬ es-abstract@1.17.4 \n",
      "│       ├─┬ es-to-primitive@1.2.1 \n",
      "│       │ ├── is-date-object@1.0.2 \n",
      "│       │ └── is-symbol@1.0.3 \n",
      "│       ├── function-bind@1.1.1 \n",
      "│       ├── has@1.0.3 \n",
      "│       ├── has-symbols@1.0.1 \n",
      "│       ├── is-callable@1.1.5 \n",
      "│       ├── is-regex@1.0.5 \n",
      "│       ├── object-inspect@1.7.0 \n",
      "│       ├── object.assign@4.1.0 \n",
      "│       ├── string.prototype.trimleft@2.1.1 \n",
      "│       └── string.prototype.trimright@2.1.1 \n",
      "├─┬ webpack@4.42.0\n",
      "│ ├─┬ terser-webpack-plugin@1.4.3\n",
      "│ │ ├── source-map@0.6.1 \n",
      "│ │ └─┬ terser@4.6.6\n",
      "│ │   ├── source-map@0.6.1 \n",
      "│ │   └─┬ source-map-support@0.5.16\n",
      "│ │     └── source-map@0.6.1 \n",
      "│ └─┬ webpack-sources@1.4.3\n",
      "│   └── source-map@0.6.1 \n",
      "└─┬ webpack-cli@3.3.11\n",
      "  └─┬ loader-utils@1.2.3\n",
      "    └── emojis-list@2.1.0 \n",
      "\n"
     ]
    },
    {
     "name": "stderr",
     "output_type": "stream",
     "text": [
      "npm WARN optional Skipping failed optional dependency /chokidar/fsevents:\n",
      "npm WARN notsup Not compatible with your operating system or architecture: fsevents@1.2.11\n"
     ]
    }
   ],
   "source": [
    "%%bash\n",
    "npm i -D html-webpack-plugin"
   ]
  },
  {
   "cell_type": "markdown",
   "metadata": {},
   "source": [
    "Подключаем в webpack.config.js"
   ]
  },
  {
   "cell_type": "code",
   "execution_count": null,
   "metadata": {},
   "outputs": [],
   "source": [
    "const HTMLWebpackPlugin = require('html-webpack-plugin')\n",
    "\n",
    "module.exports = {\n",
    "    ...\n",
    "    plugins: [\n",
    "        new HTMLWebpackPlugin()\n",
    "    ]"
   ]
  },
  {
   "cell_type": "markdown",
   "metadata": {},
   "source": [
    "Переносим index.html обратно в папку src"
   ]
  },
  {
   "cell_type": "markdown",
   "metadata": {},
   "source": [
    "Очистим папку dist"
   ]
  },
  {
   "cell_type": "code",
   "execution_count": 28,
   "metadata": {},
   "outputs": [
    {
     "name": "stdout",
     "output_type": "stream",
     "text": [
      "Hash: 9bdf47172efffc203a15\n",
      "Version: webpack 4.42.0\n",
      "Time: 311ms\n",
      "Built at: 06.03.2020 21:02:13\n",
      "                            Asset       Size     Chunks                         Chunk Names\n",
      "analytics.8a1f736c8299fe132c89.js    4.1 KiB  analytics  [emitted] [immutable]  analytics\n",
      "                       index.html  281 bytes             [emitted]              \n",
      "     main.a8c07d9612dcf209601c.js   4.68 KiB       main  [emitted] [immutable]  main\n",
      "Entrypoint main = main.a8c07d9612dcf209601c.js\n",
      "Entrypoint analytics = analytics.8a1f736c8299fe132c89.js\n",
      "[./src/Post.js] 167 bytes {main} [built]\n",
      "[./src/analytics.js] 298 bytes {analytics} [built]\n",
      "[./src/index.js] 100 bytes {main} [built]\n",
      "Child html-webpack-plugin for \"index.html\":\n",
      "     1 asset\n",
      "    Entrypoint undefined = index.html\n",
      "    [./node_modules/webpack/buildin/global.js] (webpack)/buildin/global.js 472 bytes {0} [built]\n",
      "    [./node_modules/webpack/buildin/module.js] (webpack)/buildin/module.js 497 bytes {0} [built]\n",
      "        + 2 hidden modules\n"
     ]
    }
   ],
   "source": [
    "%%bash\n",
    "webpack"
   ]
  },
  {
   "cell_type": "markdown",
   "metadata": {},
   "source": [
    "HTMLWebpackPlugin автоматически создал файл index.html в dist и подключил необходимые скрипты с нужными хешем."
   ]
  },
  {
   "cell_type": "markdown",
   "metadata": {},
   "source": [
    "Можем передать опции в плагин"
   ]
  },
  {
   "cell_type": "code",
   "execution_count": null,
   "metadata": {},
   "outputs": [],
   "source": [
    "    plugins: [\n",
    "        new HTMLWebpackPlugin({\n",
    "            title: 'webpack course'\n",
    "        })\n",
    "    ]"
   ]
  },
  {
   "cell_type": "markdown",
   "metadata": {},
   "source": [
    "Если файлы изменятся, то веб-пак их автоматически изменит"
   ]
  },
  {
   "cell_type": "code",
   "execution_count": 29,
   "metadata": {},
   "outputs": [
    {
     "name": "stdout",
     "output_type": "stream",
     "text": [
      "Hash: e7b4dba2a20083edd45a\n",
      "Version: webpack 4.42.0\n",
      "Time: 307ms\n",
      "Built at: 06.03.2020 21:06:39\n",
      "                            Asset       Size     Chunks                         Chunk Names\n",
      "analytics.8a1f736c8299fe132c89.js    4.1 KiB  analytics  [emitted] [immutable]  analytics\n",
      "                       index.html  284 bytes             [emitted]              \n",
      "     main.daa848c3f91fa58d2285.js   4.75 KiB       main  [emitted] [immutable]  main\n",
      "Entrypoint main = main.daa848c3f91fa58d2285.js\n",
      "Entrypoint analytics = analytics.8a1f736c8299fe132c89.js\n",
      "[./src/Post.js] 234 bytes {main} [built]\n",
      "[./src/analytics.js] 298 bytes {analytics} [built]\n",
      "[./src/index.js] 100 bytes {main} [built]\n",
      "Child html-webpack-plugin for \"index.html\":\n",
      "     1 asset\n",
      "    Entrypoint undefined = index.html\n",
      "    [./node_modules/webpack/buildin/global.js] (webpack)/buildin/global.js 472 bytes {0} [built]\n",
      "    [./node_modules/webpack/buildin/module.js] (webpack)/buildin/module.js 497 bytes {0} [built]\n",
      "        + 2 hidden modules\n"
     ]
    }
   ],
   "source": [
    "%%bash\n",
    "webpack"
   ]
  },
  {
   "cell_type": "markdown",
   "metadata": {},
   "source": [
    "Мы можем использовать свой index.html из src."
   ]
  },
  {
   "cell_type": "markdown",
   "metadata": {},
   "source": [
    "Удаляем все скрипты из index.html в src. Плагин подключит их автоматически"
   ]
  },
  {
   "cell_type": "markdown",
   "metadata": {},
   "source": [
    "Чтобы HTMLWebpackPlugin основывался на нашем index.html"
   ]
  },
  {
   "cell_type": "code",
   "execution_count": null,
   "metadata": {},
   "outputs": [],
   "source": [
    "module.exports = {\n",
    "    ...\n",
    "    plugins: [\n",
    "        new HTMLWebpackPlugin({\n",
    "            ...\n",
    "            template: './src/index.html'\n",
    "        })\n",
    "    ]\n",
    "}"
   ]
  },
  {
   "cell_type": "code",
   "execution_count": 31,
   "metadata": {},
   "outputs": [
    {
     "name": "stdout",
     "output_type": "stream",
     "text": [
      "Hash: 5e96765346af56628df1\n",
      "Version: webpack 4.42.0\n",
      "Time: 297ms\n",
      "Built at: 06.03.2020 21:09:45\n",
      "                            Asset       Size     Chunks                         Chunk Names\n",
      "analytics.8a1f736c8299fe132c89.js    4.1 KiB  analytics  [emitted] [immutable]  analytics\n",
      "                       index.html  427 bytes             [emitted]              \n",
      "     main.daa848c3f91fa58d2285.js   4.75 KiB       main  [emitted] [immutable]  main\n",
      "Entrypoint main = main.daa848c3f91fa58d2285.js\n",
      "Entrypoint analytics = analytics.8a1f736c8299fe132c89.js\n",
      "[./src/Post.js] 234 bytes {main} [built]\n",
      "[./src/analytics.js] 298 bytes {analytics} [built]\n",
      "[./src/index.js] 100 bytes {main} [built]\n",
      "Child html-webpack-plugin for \"index.html\":\n",
      "     1 asset\n",
      "    Entrypoint undefined = index.html\n",
      "    [./node_modules/html-webpack-plugin/lib/loader.js!./src/index.html] 480 bytes {0} [built]\n",
      "    [./node_modules/webpack/buildin/global.js] (webpack)/buildin/global.js 472 bytes {0} [built]\n",
      "    [./node_modules/webpack/buildin/module.js] (webpack)/buildin/module.js 497 bytes {0} [built]\n",
      "        + 1 hidden module\n"
     ]
    }
   ],
   "source": [
    "%%bash\n",
    "webpack"
   ]
  },
  {
   "cell_type": "markdown",
   "metadata": {},
   "source": [
    "**параметр title удаляем, потому он используется из шаблона**"
   ]
  },
  {
   "cell_type": "markdown",
   "metadata": {},
   "source": [
    "* 2051027 2020-03-06 | Автоматическое подключение скриптов с помощью HTMLWebpackPlugin и использование своего index.html (HEAD -> master) [SVA]\n",
    "* 46:12"
   ]
  },
  {
   "cell_type": "markdown",
   "metadata": {},
   "source": [
    "### Очищаем папку dist"
   ]
  },
  {
   "cell_type": "code",
   "execution_count": 1,
   "metadata": {},
   "outputs": [
    {
     "name": "stdout",
     "output_type": "stream",
     "text": [
      "sva@1.0.0 /home/victor/Development/webpack_test\n",
      "├─┬ clean-webpack-plugin@3.0.0 \n",
      "│ ├─┬ @types/webpack@4.41.7 \n",
      "│ │ ├── @types/anymatch@1.3.1 \n",
      "│ │ ├── @types/node@13.9.0 \n",
      "│ │ ├── @types/tapable@1.0.5 \n",
      "│ │ ├─┬ @types/uglify-js@3.0.4 \n",
      "│ │ │ └── source-map@0.6.1 \n",
      "│ │ ├─┬ @types/webpack-sources@0.1.6 \n",
      "│ │ │ ├── @types/source-list-map@0.1.2 \n",
      "│ │ │ └── source-map@0.6.1 \n",
      "│ │ └── source-map@0.6.1 \n",
      "│ └─┬ del@4.1.1 \n",
      "│   ├─┬ @types/glob@7.1.1 \n",
      "│   │ ├── @types/events@3.0.0 \n",
      "│   │ └── @types/minimatch@3.0.3 \n",
      "│   ├─┬ globby@6.1.0 \n",
      "│   │ ├─┬ array-union@1.0.2 \n",
      "│   │ │ └── array-uniq@1.0.3 \n",
      "│   │ ├── pify@2.3.0 \n",
      "│   │ └─┬ pinkie-promise@2.0.1 \n",
      "│   │   └── pinkie@2.0.4 \n",
      "│   ├── is-path-cwd@2.2.0 \n",
      "│   ├─┬ is-path-in-cwd@2.1.0 \n",
      "│   │ └─┬ is-path-inside@2.1.0 \n",
      "│   │   └── path-is-inside@1.0.2 \n",
      "│   └── p-map@2.1.0 \n",
      "├─┬ html-webpack-plugin@3.2.0\n",
      "│ └─┬ html-minifier@3.5.21\n",
      "│   ├─┬ clean-css@4.2.3\n",
      "│   │ └── source-map@0.6.1 \n",
      "│   └─┬ uglify-js@3.4.10\n",
      "│     └── source-map@0.6.1 \n",
      "└─┬ webpack@4.42.0\n",
      "  ├─┬ terser-webpack-plugin@1.4.3\n",
      "  │ ├── source-map@0.6.1 \n",
      "  │ └─┬ terser@4.6.6\n",
      "  │   ├── source-map@0.6.1 \n",
      "  │   └─┬ source-map-support@0.5.16\n",
      "  │     └── source-map@0.6.1 \n",
      "  └─┬ webpack-sources@1.4.3\n",
      "    └── source-map@0.6.1 \n",
      "\n"
     ]
    },
    {
     "name": "stderr",
     "output_type": "stream",
     "text": [
      "npm WARN optional Skipping failed optional dependency /chokidar/fsevents:\n",
      "npm WARN notsup Not compatible with your operating system or architecture: fsevents@1.2.11\n"
     ]
    }
   ],
   "source": [
    "%%bash\n",
    "npm install -D clean-webpack-plugin"
   ]
  },
  {
   "cell_type": "markdown",
   "metadata": {},
   "source": [
    "Подключаем в webpack.config.js"
   ]
  },
  {
   "cell_type": "code",
   "execution_count": null,
   "metadata": {},
   "outputs": [],
   "source": [
    "const {CleanWebpackPlugin} = require('clean-webpack-plugin')"
   ]
  },
  {
   "cell_type": "markdown",
   "metadata": {},
   "source": [
    "Изменяем любой js файл из сборки и пересобираем проект"
   ]
  },
  {
   "cell_type": "code",
   "execution_count": 2,
   "metadata": {},
   "outputs": [
    {
     "name": "stdout",
     "output_type": "stream",
     "text": [
      "Hash: 7e8ffa9ff0b2ed15a52e\n",
      "Version: webpack 4.42.0\n",
      "Time: 497ms\n",
      "Built at: 07.03.2020 15:00:58\n",
      "                            Asset       Size     Chunks                         Chunk Names\n",
      "analytics.79bf9b215e65ae20fdce.js   4.12 KiB  analytics  [emitted] [immutable]  analytics\n",
      "                       index.html  427 bytes             [emitted]              \n",
      "     main.daa848c3f91fa58d2285.js   4.75 KiB       main  [emitted] [immutable]  main\n",
      "Entrypoint main = main.daa848c3f91fa58d2285.js\n",
      "Entrypoint analytics = analytics.79bf9b215e65ae20fdce.js\n",
      "[./src/Post.js] 234 bytes {main} [built]\n",
      "[./src/analytics.js] 324 bytes {analytics} [built]\n",
      "[./src/index.js] 100 bytes {main} [built]\n",
      "Child html-webpack-plugin for \"index.html\":\n",
      "     1 asset\n",
      "    Entrypoint undefined = index.html\n",
      "    [./node_modules/html-webpack-plugin/lib/loader.js!./src/index.html] 480 bytes {0} [built]\n",
      "    [./node_modules/webpack/buildin/global.js] (webpack)/buildin/global.js 472 bytes {0} [built]\n",
      "    [./node_modules/webpack/buildin/module.js] (webpack)/buildin/module.js 497 bytes {0} [built]\n",
      "        + 1 hidden module\n"
     ]
    }
   ],
   "source": [
    "%%bash\n",
    "webpack"
   ]
  },
  {
   "cell_type": "markdown",
   "metadata": {},
   "source": [
    "Теперь папка dist очищается"
   ]
  },
  {
   "cell_type": "markdown",
   "metadata": {},
   "source": [
    "### Автоматизация процесса сборки"
   ]
  },
  {
   "cell_type": "markdown",
   "metadata": {},
   "source": [
    "package.json"
   ]
  },
  {
   "cell_type": "markdown",
   "metadata": {},
   "source": [
    "{\n",
    "  \"scripts\": {\n",
    "    \"dev\": \"webpack --mode development\",\n",
    "    \"build\": \"webpack --mode production\"\n",
    "  },\n",
    "}"
   ]
  },
  {
   "cell_type": "code",
   "execution_count": 5,
   "metadata": {},
   "outputs": [
    {
     "name": "stdout",
     "output_type": "stream",
     "text": [
      "\n",
      "> sva@1.0.0 dev /home/victor/Development/webpack_test\n",
      "> webpack --mode development\n",
      "\n",
      "Hash: 7e8ffa9ff0b2ed15a52e\n",
      "Version: webpack 4.42.0\n",
      "Time: 298ms\n",
      "Built at: 07.03.2020 15:04:36\n",
      "                            Asset       Size     Chunks                         Chunk Names\n",
      "analytics.79bf9b215e65ae20fdce.js   4.12 KiB  analytics  [emitted] [immutable]  analytics\n",
      "                       index.html  427 bytes             [emitted]              \n",
      "     main.daa848c3f91fa58d2285.js   4.75 KiB       main  [emitted] [immutable]  main\n",
      "Entrypoint main = main.daa848c3f91fa58d2285.js\n",
      "Entrypoint analytics = analytics.79bf9b215e65ae20fdce.js\n",
      "[./src/Post.js] 234 bytes {main} [built]\n",
      "[./src/analytics.js] 324 bytes {analytics} [built]\n",
      "[./src/index.js] 100 bytes {main} [built]\n",
      "Child html-webpack-plugin for \"index.html\":\n",
      "     1 asset\n",
      "    Entrypoint undefined = index.html\n",
      "    [./node_modules/html-webpack-plugin/lib/loader.js!./src/index.html] 480 bytes {0} [built]\n",
      "    [./node_modules/webpack/buildin/global.js] (webpack)/buildin/global.js 472 bytes {0} [built]\n",
      "    [./node_modules/webpack/buildin/module.js] (webpack)/buildin/module.js 497 bytes {0} [built]\n",
      "        + 1 hidden module\n"
     ]
    }
   ],
   "source": [
    "%%bash\n",
    "npm run dev"
   ]
  },
  {
   "cell_type": "markdown",
   "metadata": {},
   "source": [
    "**Используя npm run build мы получаем минифизированные файлы**"
   ]
  },
  {
   "cell_type": "code",
   "execution_count": 6,
   "metadata": {},
   "outputs": [
    {
     "name": "stdout",
     "output_type": "stream",
     "text": [
      "\n",
      "> sva@1.0.0 build /home/victor/Development/webpack_test\n",
      "> webpack --mode production\n",
      "\n",
      "Hash: ca46a8dd96ee5dd5c2f0\n",
      "Version: webpack 4.42.0\n",
      "Time: 1363ms\n",
      "Built at: 07.03.2020 15:05:02\n",
      "                            Asset       Size  Chunks                         Chunk Names\n",
      "analytics.f16c7e5fd56894287983.js   1.06 KiB       0  [emitted] [immutable]  analytics\n",
      "                       index.html  427 bytes          [emitted]              \n",
      "     main.ed28188906dfaff32107.js   1.12 KiB       1  [emitted] [immutable]  main\n",
      "Entrypoint main = main.ed28188906dfaff32107.js\n",
      "Entrypoint analytics = analytics.f16c7e5fd56894287983.js\n",
      "[0] ./src/analytics.js 324 bytes {0} [built]\n",
      "[1] ./src/index.js + 1 modules 334 bytes {1} [built]\n",
      "    | ./src/index.js 100 bytes [built]\n",
      "    | ./src/Post.js 234 bytes [built]\n",
      "Child html-webpack-plugin for \"index.html\":\n",
      "     1 asset\n",
      "    Entrypoint undefined = index.html\n",
      "    [0] ./node_modules/html-webpack-plugin/lib/loader.js!./src/index.html 480 bytes {0} [built]\n",
      "    [2] (webpack)/buildin/global.js 472 bytes {0} [built]\n",
      "    [3] (webpack)/buildin/module.js 497 bytes {0} [built]\n",
      "        + 1 hidden module\n"
     ]
    }
   ],
   "source": [
    "%%bash\n",
    "npm run build"
   ]
  },
  {
   "cell_type": "markdown",
   "metadata": {},
   "source": [
    "### Context"
   ]
  },
  {
   "cell_type": "markdown",
   "metadata": {},
   "source": [
    "webpack.config.js"
   ]
  },
  {
   "cell_type": "code",
   "execution_count": null,
   "metadata": {},
   "outputs": [],
   "source": [
    "module.exports = {\n",
    "    context: 'src', //с файлами в какой папке работаем\n",
    "    ...\n",
    "}"
   ]
  },
  {
   "cell_type": "markdown",
   "metadata": {},
   "source": [
    "Теперь можно не указывать папку src в путях к webpack.config.js"
   ]
  },
  {
   "cell_type": "code",
   "execution_count": null,
   "metadata": {},
   "outputs": [],
   "source": [
    "module.exports = {\n",
    "    context: path.resolve(__dirname, 'src'), //с файлами в какой папке работаем\n",
    "    entry: {\n",
    "        main: './index.js', //откуда начать\n",
    "        analytics: './analytics.js' // добавили вторую точку входа\n",
    "    },\n",
    "    plugins: [\n",
    "        new HTMLWebpackPlugin({\n",
    "            template: './index.html'\n",
    "        }),\n",
    "    ..."
   ]
  },
  {
   "cell_type": "code",
   "execution_count": 7,
   "metadata": {},
   "outputs": [
    {
     "name": "stdout",
     "output_type": "stream",
     "text": [
      "\n",
      "> sva@1.0.0 dev /home/victor/Development/webpack_test\n",
      "> webpack --mode development\n",
      "\n",
      "Hash: 3b73a29ed0901ca35586\n",
      "Version: webpack 4.42.0\n",
      "Time: 295ms\n",
      "Built at: 07.03.2020 15:14:21\n",
      "                            Asset       Size     Chunks                         Chunk Names\n",
      "analytics.ef75d5a72bff9b0b28c8.js    4.1 KiB  analytics  [emitted] [immutable]  analytics\n",
      "                       index.html  427 bytes             [emitted]              \n",
      "     main.63c6a6ad912d1a7b51d7.js    4.7 KiB       main  [emitted] [immutable]  main\n",
      "Entrypoint main = main.63c6a6ad912d1a7b51d7.js\n",
      "Entrypoint analytics = analytics.ef75d5a72bff9b0b28c8.js\n",
      "[./Post.js] 234 bytes {main} [built]\n",
      "[./analytics.js] 324 bytes {analytics} [built]\n",
      "[./index.js] 100 bytes {main} [built]\n",
      "Child html-webpack-plugin for \"index.html\":\n",
      "     1 asset\n",
      "    Entrypoint undefined = index.html\n",
      "    [../node_modules/html-webpack-plugin/lib/loader.js!./index.html] 480 bytes {0} [built]\n",
      "        + 3 hidden modules\n"
     ]
    }
   ],
   "source": [
    "%%bash\n",
    "npm run dev"
   ]
  },
  {
   "cell_type": "markdown",
   "metadata": {},
   "source": [
    "* 5c5e62a 2020-03-07 | Научились очищать папку dist. Добавили команды в package.json и теперь собираем проект в разных режимах с помощью npm run dev/build. Задали context для webpack, чтобы не указывать папку src в путях к файлам (HEAD -> master) [SVA]\n",
    "* 51.58"
   ]
  },
  {
   "cell_type": "markdown",
   "metadata": {},
   "source": [
    "## CSS"
   ]
  },
  {
   "cell_type": "markdown",
   "metadata": {},
   "source": [
    "В src создаем папку css и в ней файл main.css. И подключаем эти стили в index.js"
   ]
  },
  {
   "cell_type": "code",
   "execution_count": null,
   "metadata": {},
   "outputs": [],
   "source": [
    "import './css/main.css'"
   ]
  },
  {
   "cell_type": "markdown",
   "metadata": {},
   "source": [
    "Устанавливаем лоадеры"
   ]
  },
  {
   "cell_type": "code",
   "execution_count": 9,
   "metadata": {},
   "outputs": [
    {
     "name": "stdout",
     "output_type": "stream",
     "text": [
      "sva@1.0.0 /home/victor/Development/webpack_test\n",
      "├─┬ clean-webpack-plugin@3.0.0\n",
      "│ └─┬ @types/webpack@4.41.7\n",
      "│   ├─┬ @types/uglify-js@3.0.4\n",
      "│   │ └── source-map@0.6.1 \n",
      "│   ├─┬ @types/webpack-sources@0.1.6\n",
      "│   │ └── source-map@0.6.1 \n",
      "│   └── source-map@0.6.1 \n",
      "├─┬ css-loader@3.4.2 \n",
      "│ ├── cssesc@3.0.0 \n",
      "│ ├── icss-utils@4.1.1 \n",
      "│ ├─┬ postcss@7.0.27 \n",
      "│ │ └── source-map@0.6.1 \n",
      "│ ├── postcss-modules-extract-imports@2.0.0 \n",
      "│ ├─┬ postcss-modules-local-by-default@3.0.2 \n",
      "│ │ └─┬ postcss-selector-parser@6.0.2 \n",
      "│ │   ├── indexes-of@1.0.1 \n",
      "│ │   └── uniq@1.0.1 \n",
      "│ ├── postcss-modules-scope@2.1.1 \n",
      "│ ├── postcss-modules-values@3.0.0 \n",
      "│ ├── postcss-value-parser@4.0.3 \n",
      "│ └── schema-utils@2.6.4 \n",
      "├─┬ html-webpack-plugin@3.2.0\n",
      "│ └─┬ html-minifier@3.5.21\n",
      "│   ├─┬ clean-css@4.2.3\n",
      "│   │ └── source-map@0.6.1 \n",
      "│   └─┬ uglify-js@3.4.10\n",
      "│     └── source-map@0.6.1 \n",
      "├─┬ style-loader@1.1.3 \n",
      "│ └── schema-utils@2.6.4 \n",
      "└─┬ webpack@4.42.0\n",
      "  ├─┬ terser-webpack-plugin@1.4.3\n",
      "  │ ├── source-map@0.6.1 \n",
      "  │ └─┬ terser@4.6.6\n",
      "  │   ├── source-map@0.6.1 \n",
      "  │   └─┬ source-map-support@0.5.16\n",
      "  │     └── source-map@0.6.1 \n",
      "  └─┬ webpack-sources@1.4.3\n",
      "    └── source-map@0.6.1 \n",
      "\n"
     ]
    },
    {
     "name": "stderr",
     "output_type": "stream",
     "text": [
      "npm WARN optional Skipping failed optional dependency /chokidar/fsevents:\n",
      "npm WARN notsup Not compatible with your operating system or architecture: fsevents@1.2.11\n"
     ]
    }
   ],
   "source": [
    "%%bash \n",
    "npm i -D style-loader css-loader"
   ]
  },
  {
   "cell_type": "markdown",
   "metadata": {},
   "source": [
    "### Loaders"
   ]
  },
  {
   "cell_type": "markdown",
   "metadata": {},
   "source": [
    "Webpack по умолчанию работает только с js файлами, и поэтому чтобы он понимал файлы других расширений используются loaders  \n",
    "\n",
    "Loaders вшивают код в js файл\n"
   ]
  },
  {
   "cell_type": "markdown",
   "metadata": {},
   "source": [
    "Добавим в webpack.config.js следующее"
   ]
  },
  {
   "cell_type": "code",
   "execution_count": null,
   "metadata": {},
   "outputs": [],
   "source": [
    "    ...\n",
    "    module: {\n",
    "        rules: [\n",
    "            {\n",
    "                test: /\\.css$/, //регулярное выражение для поиска css файлов\n",
    "                use: ['style-loader', 'css-loader'] // лоадеры. Работают справа налево, снизу вверх\n",
    "            }\n",
    "        ]\n",
    "    }"
   ]
  },
  {
   "cell_type": "code",
   "execution_count": 10,
   "metadata": {},
   "outputs": [
    {
     "name": "stdout",
     "output_type": "stream",
     "text": [
      "\n",
      "> sva@1.0.0 dev /home/victor/Development/webpack_test\n",
      "> webpack --mode development\n",
      "\n",
      "Hash: 036756247eb271ab8230\n",
      "Version: webpack 4.42.0\n",
      "Time: 1626ms\n",
      "Built at: 07.03.2020 15:52:09\n",
      "                            Asset       Size     Chunks                         Chunk Names\n",
      "analytics.ef75d5a72bff9b0b28c8.js    4.1 KiB  analytics  [emitted] [immutable]  analytics\n",
      "                       index.html  427 bytes             [emitted]              \n",
      "     main.80e9b4d5a66dc1ff0c0a.js   17.2 KiB       main  [emitted] [immutable]  main\n",
      "Entrypoint main = main.80e9b4d5a66dc1ff0c0a.js\n",
      "Entrypoint analytics = analytics.ef75d5a72bff9b0b28c8.js\n",
      "[../node_modules/css-loader/dist/cjs.js!./css/main.css] 315 bytes {main} [built]\n",
      "[./Post.js] 234 bytes {main} [built]\n",
      "[./analytics.js] 324 bytes {analytics} [built]\n",
      "[./css/main.css] 566 bytes {main} [built]\n",
      "[./index.js] 124 bytes {main} [built]\n",
      "    + 2 hidden modules\n",
      "Child html-webpack-plugin for \"index.html\":\n",
      "     1 asset\n",
      "    Entrypoint undefined = index.html\n",
      "    [../node_modules/html-webpack-plugin/lib/loader.js!./index.html] 480 bytes {0} [built]\n",
      "        + 3 hidden modules\n"
     ]
    }
   ],
   "source": [
    "%%bash\n",
    "npm run dev"
   ]
  },
  {
   "cell_type": "markdown",
   "metadata": {},
   "source": [
    "**Стили применились, но сейчас они динамически добавляются в код страницы в <head>**"
   ]
  },
  {
   "cell_type": "markdown",
   "metadata": {},
   "source": [
    "* e377c42 2020-03-07 | CSS. Начало использования. Лоадеры. (HEAD -> master) [SVA]\n",
    "* 59.00"
   ]
  },
  {
   "cell_type": "markdown",
   "metadata": {},
   "source": [
    "### Работа с файлами разных расширений с помощью loaders"
   ]
  },
  {
   "cell_type": "markdown",
   "metadata": {},
   "source": [
    "Webpack понимает только js, json"
   ]
  },
  {
   "cell_type": "markdown",
   "metadata": {},
   "source": [
    "В папке assets создадим json.json"
   ]
  },
  {
   "cell_type": "code",
   "execution_count": null,
   "metadata": {},
   "outputs": [],
   "source": [
    "{\n",
    "    title: 'I am JSON file'\n",
    "}"
   ]
  },
  {
   "cell_type": "code",
   "execution_count": null,
   "metadata": {},
   "outputs": [],
   "source": [
    "Чтобы каждый раз не запускать команду вручную сделаем новый скрипт в package.json"
   ]
  },
  {
   "cell_type": "markdown",
   "metadata": {},
   "source": [
    "  ...\n",
    "  \"scripts\": {\n",
    "    ...\n",
    "    \"watch\": \"webpack --mode development --watch\"\n",
    "  },"
   ]
  },
  {
   "cell_type": "code",
   "execution_count": 12,
   "metadata": {},
   "outputs": [
    {
     "name": "stdout",
     "output_type": "stream",
     "text": [
      "Process is interrupted.\n"
     ]
    }
   ],
   "source": [
    "%%bash\n",
    "npm run watch"
   ]
  },
  {
   "cell_type": "markdown",
   "metadata": {},
   "source": [
    "### png"
   ]
  },
  {
   "cell_type": "markdown",
   "metadata": {},
   "source": [
    "**Картинки в JS**"
   ]
  },
  {
   "cell_type": "markdown",
   "metadata": {},
   "source": [
    "import logo from './assets/logo.png' // в index.js"
   ]
  },
  {
   "cell_type": "code",
   "execution_count": 14,
   "metadata": {},
   "outputs": [
    {
     "name": "stdout",
     "output_type": "stream",
     "text": [
      "sva@1.0.0 /home/victor/Development/webpack_test\n",
      "├─┬ css-loader@3.4.2\n",
      "│ └── schema-utils@2.6.4 \n",
      "├─┬ file-loader@5.1.0 \n",
      "│ └── schema-utils@2.6.4 \n",
      "└─┬ style-loader@1.1.3\n",
      "  └── schema-utils@2.6.4 \n",
      "\n"
     ]
    },
    {
     "name": "stderr",
     "output_type": "stream",
     "text": [
      "WARN engine file-loader@5.1.0: wanted: {\"node\":\">= 10.13.0\"} (current: {\"node\":\"8.10.0\",\"npm\":\"3.5.2\"})\n",
      "WARN engine file-loader@5.1.0: wanted: {\"node\":\">= 10.13.0\"} (current: {\"node\":\"8.10.0\",\"npm\":\"3.5.2\"})\n",
      "npm WARN optional Skipping failed optional dependency /chokidar/fsevents:\n",
      "npm WARN notsup Not compatible with your operating system or architecture: fsevents@1.2.11\n"
     ]
    }
   ],
   "source": [
    "%%bash\n",
    "npm i -D file-loader"
   ]
  },
  {
   "cell_type": "markdown",
   "metadata": {},
   "source": [
    "Мы можем импортировать все что угодно, достаточно подгрузить необходимый тип лоадеров"
   ]
  },
  {
   "cell_type": "markdown",
   "metadata": {},
   "source": [
    "В webpack.config.js "
   ]
  },
  {
   "cell_type": "code",
   "execution_count": null,
   "metadata": {},
   "outputs": [],
   "source": [
    "    ...\n",
    "    module: {\n",
    "        rules: [\n",
    "            {\n",
    "                test: /\\.(png|jpg|svg|gif)$/,\n",
    "                use: ['file-loader']\n",
    "            }\n",
    "        ]\n",
    "    }"
   ]
  },
  {
   "cell_type": "code",
   "execution_count": 15,
   "metadata": {},
   "outputs": [
    {
     "name": "stdout",
     "output_type": "stream",
     "text": [
      "\n",
      "> sva@1.0.0 dev /home/victor/Development/webpack_test\n",
      "> webpack --mode development\n",
      "\n",
      "Hash: 2a31d957736068f195a9\n",
      "Version: webpack 4.42.0\n",
      "Time: 429ms\n",
      "Built at: 07.03.2020 17:40:31\n",
      "                               Asset       Size     Chunks                         Chunk Names\n",
      "   analytics.ef75d5a72bff9b0b28c8.js    4.1 KiB  analytics  [emitted] [immutable]  analytics\n",
      "d1e12104df69119a90388c937d758f60.png   5.85 KiB             [emitted]              \n",
      "                          index.html  427 bytes             [emitted]              \n",
      "        main.6496390ba0c144dbaa7e.js   18.7 KiB       main  [emitted] [immutable]  main\n",
      "Entrypoint main = main.6496390ba0c144dbaa7e.js\n",
      "Entrypoint analytics = analytics.ef75d5a72bff9b0b28c8.js\n",
      "[../node_modules/css-loader/dist/cjs.js!./css/main.css] 315 bytes {main} [built]\n",
      "[./Post.js] 377 bytes {main} [built]\n",
      "[./analytics.js] 324 bytes {analytics} [built]\n",
      "[./assets/json.json] 33 bytes {main} [built]\n",
      "[./assets/logo.png] 80 bytes {main} [built]\n",
      "[./css/main.css] 566 bytes {main} [built]\n",
      "[./index.js] 224 bytes {main} [built]\n",
      "    + 2 hidden modules\n",
      "Child html-webpack-plugin for \"index.html\":\n",
      "     1 asset\n",
      "    Entrypoint undefined = index.html\n",
      "    [../node_modules/html-webpack-plugin/lib/loader.js!./index.html] 480 bytes {0} [built]\n",
      "        + 3 hidden modules\n"
     ]
    }
   ],
   "source": [
    "%%bash\n",
    "npm run dev"
   ]
  },
  {
   "cell_type": "markdown",
   "metadata": {},
   "source": [
    "**Картинки в CSS**"
   ]
  },
  {
   "cell_type": "code",
   "execution_count": null,
   "metadata": {},
   "outputs": [],
   "source": [
    "в main.css"
   ]
  },
  {
   "cell_type": "code",
   "execution_count": null,
   "metadata": {},
   "outputs": [],
   "source": [
    ".logo {\n",
    "    background-image: url(\"../assets/logo.png\");\n",
    "    background-size: cover;\n",
    "    width: 200px;\n",
    "    height: 200px;\n",
    "    margin: 0 auto;\n",
    "}"
   ]
  },
  {
   "cell_type": "markdown",
   "metadata": {},
   "source": [
    "* 56abc2b 2020-03-07 | Работа с лоадерами. Расширения json, png для js, html (HEAD -> master) [SVA]  \n",
    "* 1:09:0"
   ]
  },
  {
   "cell_type": "markdown",
   "metadata": {},
   "source": [
    "### Шрифты"
   ]
  },
  {
   "cell_type": "markdown",
   "metadata": {},
   "source": [
    "Добавляем шрифт в assets/fonts"
   ]
  },
  {
   "cell_type": "markdown",
   "metadata": {},
   "source": [
    "Создаем файл fonts.css в css"
   ]
  },
  {
   "cell_type": "code",
   "execution_count": null,
   "metadata": {},
   "outputs": [],
   "source": [
    "@font-face {\n",
    "    font-family: \"Avant\";\n",
    "    src: url(\"../assets/fonts/avant-garde-book.ttf\") format(\"truetype\";)\n",
    "}"
   ]
  },
  {
   "cell_type": "markdown",
   "metadata": {},
   "source": [
    "В main.css"
   ]
  },
  {
   "cell_type": "code",
   "execution_count": null,
   "metadata": {},
   "outputs": [],
   "source": [
    "@import 'fonts.css'\n",
    "\n",
    "\n",
    "body {\n",
    "    font-family: \"Avant\";\n",
    "}"
   ]
  },
  {
   "cell_type": "code",
   "execution_count": 17,
   "metadata": {},
   "outputs": [
    {
     "name": "stdout",
     "output_type": "stream",
     "text": [
      "\n",
      "> sva@1.0.0 dev /home/victor/Development/webpack_test\n",
      "> webpack --mode development\n",
      "\n",
      "Hash: 84aa27670c8ec88ee686\n",
      "Version: webpack 4.42.0\n",
      "Time: 416ms\n",
      "Built at: 07.03.2020 18:19:21\n",
      "                               Asset       Size     Chunks                         Chunk Names\n",
      "7dd106d75849bfa889f46ae780ccfff1.ttf   34.8 KiB             [emitted]              \n",
      "   analytics.ef75d5a72bff9b0b28c8.js    4.1 KiB  analytics  [emitted] [immutable]  analytics\n",
      "d1e12104df69119a90388c937d758f60.png   5.85 KiB             [emitted]              \n",
      "                          index.html  572 bytes             [emitted]              \n",
      "        main.52a74d3953bbc26c358b.js   22.8 KiB       main  [emitted] [immutable]  main\n",
      "Entrypoint main = main.52a74d3953bbc26c358b.js\n",
      "Entrypoint analytics = analytics.ef75d5a72bff9b0b28c8.js\n",
      "[../node_modules/css-loader/dist/cjs.js!./css/fonts.css] 652 bytes {main} [built]\n",
      "[../node_modules/css-loader/dist/cjs.js!./css/main.css] 1010 bytes {main} [built]\n",
      "[./Post.js] 382 bytes {main} [built]\n",
      "[./analytics.js] 324 bytes {analytics} [built]\n",
      "[./assets/fonts/avant-garde-book.ttf] 80 bytes {main} [built]\n",
      "[./assets/json.json] 33 bytes {main} [built]\n",
      "[./assets/logo.png] 80 bytes {main} [built]\n",
      "[./css/main.css] 566 bytes {main} [built]\n",
      "[./index.js] 252 bytes {main} [built]\n",
      "    + 3 hidden modules\n",
      "Child html-webpack-plugin for \"index.html\":\n",
      "     1 asset\n",
      "    Entrypoint undefined = index.html\n",
      "    [../node_modules/html-webpack-plugin/lib/loader.js!./index.html] 628 bytes {0} [built]\n",
      "        + 3 hidden modules\n"
     ]
    }
   ],
   "source": [
    "%%bash\n",
    "npm run dev"
   ]
  },
  {
   "cell_type": "code",
   "execution_count": null,
   "metadata": {},
   "outputs": [],
   "source": [
    "В webpack.config\n",
    "    {\n",
    "                test: /\\.(ttf|woff|woff2|eot)$/,\n",
    "                use: ['file-loader']\n",
    "            }"
   ]
  },
  {
   "cell_type": "markdown",
   "metadata": {},
   "source": [
    "* 12bd907 2020-03-07 | Шрифты в css. import css. font-loader (HEAD -> master) [SVA]\n",
    "* 1.13.00"
   ]
  },
  {
   "cell_type": "markdown",
   "metadata": {},
   "source": [
    "### Подключение внешних библиотеку к проекту "
   ]
  },
  {
   "cell_type": "code",
   "execution_count": null,
   "metadata": {},
   "outputs": [],
   "source": [
    "Устанавливаем библиотеку без -D - в зависимости проекта"
   ]
  },
  {
   "cell_type": "code",
   "execution_count": 18,
   "metadata": {},
   "outputs": [
    {
     "name": "stdout",
     "output_type": "stream",
     "text": [
      "sva@1.0.0 /home/victor/Development/webpack_test\n",
      "└── normalize.css@8.0.1  extraneous\n",
      "\n"
     ]
    },
    {
     "name": "stderr",
     "output_type": "stream",
     "text": [
      "npm WARN optional Skipping failed optional dependency /chokidar/fsevents:\n",
      "npm WARN notsup Not compatible with your operating system or architecture: fsevents@1.2.11\n"
     ]
    }
   ],
   "source": [
    "%%bash\n",
    "npm i normalize.css"
   ]
  },
  {
   "cell_type": "markdown",
   "metadata": {},
   "source": [
    "Чтобы подключить библиотеку в файле main.css подключаем  \n",
    "@import \"~normalize.css\""
   ]
  }
 ],
 "metadata": {
  "kernelspec": {
   "display_name": "Python 3",
   "language": "python",
   "name": "python3"
  },
  "language_info": {
   "codemirror_mode": {
    "name": "ipython",
    "version": 3
   },
   "file_extension": ".py",
   "mimetype": "text/x-python",
   "name": "python",
   "nbconvert_exporter": "python",
   "pygments_lexer": "ipython3",
   "version": "3.6.9"
  }
 },
 "nbformat": 4,
 "nbformat_minor": 2
}
